{
 "cells": [
  {
   "cell_type": "markdown",
   "metadata": {},
   "source": [
    "# Run below code if stocks not already sorted.\n",
    "\n",
    "Simply uncomment the below and then run if sorted_copy_of_tickers directory not present.**\n",
    "\n",
    "**Note: must run `python y_finance_data.py` in terminal first."
   ]
  },
  {
   "cell_type": "code",
   "execution_count": null,
   "metadata": {},
   "outputs": [
    {
     "name": "stdout",
     "output_type": "stream",
     "text": [
      "Files have been classified and copied successfully.\n"
     ]
    }
   ],
   "source": [
    "# import os\n",
    "# import pandas as pd\n",
    "# import shutil\n",
    "\n",
    "# # Path to the directory containing your CSV files\n",
    "# input_dir = '/home/connorskudlarek/GitHub/my-AI-shindigs/nasdaq_historical_data_yfinance'\n",
    "\n",
    "# # Define the paths to the output directories\n",
    "# output_dirs = {\n",
    "#     'embryo_tickers': 'sorted_copy_of_tickers/embryo_tickers',\n",
    "#     'baby_tickers': 'sorted_copy_of_tickers/baby_tickers',\n",
    "#     'toddler_tickers': 'sorted_copy_of_tickers/toddler_tickers',\n",
    "#     'young_tickers': 'sorted_copy_of_tickers/young_tickers',\n",
    "#     'aging_tickers': 'sorted_copy_of_tickers/aging_tickers',\n",
    "#     'grown_tickers': 'sorted_copy_of_tickers/grown_tickers',\n",
    "#     'elder_tickers': 'sorted_copy_of_tickers/elder_tickers'\n",
    "# }\n",
    "\n",
    "# # Create the output directories if they don't exist\n",
    "# for dir_path in output_dirs.values():\n",
    "#     os.makedirs(dir_path, exist_ok=True)\n",
    "\n",
    "# # Function to classify and copy files\n",
    "# def classify_and_copy_file(file_path, output_dirs):\n",
    "#     df = pd.read_csv(file_path, skiprows=3)    # Skip the first 3 rows to start at row 4\n",
    "    \n",
    "#     # Ensure column names are stripped of leading/trailing spaces\n",
    "#     df.columns = df.columns.str.strip()\n",
    "    \n",
    "#     # Assume the first column is Date\n",
    "#     df['Date'] = pd.to_datetime(df.iloc[:, 0], errors='coerce')\n",
    "#     df.dropna(subset=['Date'], inplace=True)\n",
    "    \n",
    "#     num_entries = df.shape[0]\n",
    "#     date_range = df['Date'].max() - df['Date'].min()\n",
    "    \n",
    "#     if num_entries < 60:\n",
    "#         shutil.copy(file_path, output_dirs['embryo_tickers'])\n",
    "#     elif 60 <= num_entries <= 150:\n",
    "#         shutil.copy(file_path, output_dirs['baby_tickers'])\n",
    "#     elif date_range.days < 365:\n",
    "#         shutil.copy(file_path, output_dirs['toddler_tickers'])\n",
    "#     elif 365 <= date_range.days < 3 * 365:\n",
    "#         shutil.copy(file_path, output_dirs['young_tickers'])\n",
    "#     elif 3 * 365 <= date_range.days < 10 * 365:\n",
    "#         shutil.copy(file_path, output_dirs['aging_tickers'])\n",
    "#     elif 10 * 365 <= date_range.days < 20 * 365:\n",
    "#         shutil.copy(file_path, output_dirs['grown_tickers'])\n",
    "#     else:\n",
    "#         shutil.copy(file_path, output_dirs['elder_tickers'])\n",
    "        \n",
    "# # Process all CSV files in the input directory\n",
    "# for filename in os.listdir(input_dir):\n",
    "#     if filename.endswith('.csv'):\n",
    "#         file_path = os.path.join(input_dir, filename)\n",
    "#         classify_and_copy_file(file_path, output_dirs)\n",
    "        \n",
    "# print(\"Files have been classified and copied successfully.\")"
   ]
  },
  {
   "cell_type": "markdown",
   "metadata": {},
   "source": [
    "# Count the number of files in each directory\n",
    "\n",
    "Just a quick count of each file in directory to make sure sorted correctly, and get an idea of where most data is at."
   ]
  },
  {
   "cell_type": "code",
   "execution_count": 21,
   "metadata": {},
   "outputs": [
    {
     "name": "stdout",
     "output_type": "stream",
     "text": [
      "There are 2218 files in the 'elder_tickers' directory. >20 years\n",
      "There are 111 files in the 'embryo_tickers' directory. <60 entries.\n",
      "There are 2019 files in the 'aging_tickers' directory. 3-10 years\n",
      "There are 1147 files in the 'grown_tickers' directory. 10-20 years\n",
      "There are 130 files in the 'baby_tickers' directory. >60 & <150 entries\n",
      "There are 117 files in the 'toddler_tickers' directory. <1 year\n",
      "There are 505 files in the 'young_tickers' directory. 1-3 years\n",
      "\n",
      "Total sorted files: 6247.\n"
     ]
    }
   ],
   "source": [
    "import os\n",
    "\n",
    "def count_files_in_directory(directory):\n",
    "    file_count = 0\n",
    "    for root, dirs, files in os.walk(directory):\n",
    "        file_count += len(files)\n",
    "    return file_count\n",
    "\n",
    "# Specify the parent directory containing your subdirectories\n",
    "parent_directory = 'sorted_copy_of_tickers'\n",
    "\n",
    "# Make descriptive dict of stock count\n",
    "entries = {'embryo_tickers': \"<60 entries.\",\n",
    "           'baby_tickers': \">60 & <150 entries\",\n",
    "           'toddler_tickers': \"<1 year\",\n",
    "           'young_tickers': \"1-3 years\",\n",
    "           'aging_tickers': \"3-10 years\",\n",
    "           'grown_tickers': \"10-20 years\",\n",
    "           'elder_tickers': \">20 years\"}\n",
    "\n",
    "# Get the list of subdirectories\n",
    "subdirectories = [os.path.join(parent_directory, d) for d in os.listdir(parent_directory) if os.path.isdir(os.path.join(parent_directory, d))]\n",
    "\n",
    "total_count = 0\n",
    "# Count and print the number of files in each subdirectory\n",
    "for subdirectory in subdirectories:\n",
    "    count = count_files_in_directory(subdirectory)\n",
    "    total_count += count\n",
    "    print(f\"There are {count} files in the '{os.path.basename(subdirectory)}' directory. {entries[os.path.basename(subdirectory)]}\")\n",
    "\n",
    "print(f\"\\nTotal sorted files: {total_count}.\")\n"
   ]
  },
  {
   "cell_type": "code",
   "execution_count": null,
   "metadata": {},
   "outputs": [],
   "source": []
  }
 ],
 "metadata": {
  "kernelspec": {
   "display_name": "tf-udemy",
   "language": "python",
   "name": "python3"
  },
  "language_info": {
   "codemirror_mode": {
    "name": "ipython",
    "version": 3
   },
   "file_extension": ".py",
   "mimetype": "text/x-python",
   "name": "python",
   "nbconvert_exporter": "python",
   "pygments_lexer": "ipython3",
   "version": "3.12.7"
  }
 },
 "nbformat": 4,
 "nbformat_minor": 2
}
